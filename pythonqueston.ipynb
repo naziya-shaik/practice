{
  "nbformat": 4,
  "nbformat_minor": 0,
  "metadata": {
    "colab": {
      "provenance": [],
      "authorship_tag": "ABX9TyPrrllVkUTWL1Ks+PVzFs08",
      "include_colab_link": true
    },
    "kernelspec": {
      "name": "python3",
      "display_name": "Python 3"
    },
    "language_info": {
      "name": "python"
    }
  },
  "cells": [
    {
      "cell_type": "markdown",
      "metadata": {
        "id": "view-in-github",
        "colab_type": "text"
      },
      "source": [
        "<a href=\"https://colab.research.google.com/github/naziya-shaik/practice/blob/master/pythonqueston.ipynb\" target=\"_parent\"><img src=\"https://colab.research.google.com/assets/colab-badge.svg\" alt=\"Open In Colab\"/></a>"
      ]
    },
    {
      "cell_type": "markdown",
      "source": [
        "\n",
        "\n",
        "```\n",
        "# Neil sardesai owns kiddeo corp,a shop for kid accessories.There are two categories of items with an id number associated with them as follows:\n",
        "if the first digit in id is 1 then item cost is 50 each,if the first digit of id is 2 then cost is 100 each.\n",
        "given id and number of items ,display the total amount to be paid by the customer.Edit the total function in the program and produce required output.\n",
        "#input:id number followed by the number of items with a space between them\n",
        "#output:single integer denoting the amount to be paid by the customer\n",
        "#example:i/P:12345 12    o/p:50*12=600\n",
        "i/p:21345 10          o/p:100*10=1000\n",
        "```\n",
        "\n"
      ],
      "metadata": {
        "id": "EWGgN3w-Gfov"
      }
    },
    {
      "cell_type": "code",
      "execution_count": null,
      "metadata": {
        "id": "skYbj3TKGdS0"
      },
      "outputs": [],
      "source": [
        "def Total(Input):\n",
        "  id=Input[0]\n",
        "  num_items=Input[1]\n",
        "  num_items=int(num_items)\n",
        "  if id[0]==1:\n",
        "    cost=50\n",
        "  else:\n",
        "    cost=100\n",
        "  total_cost=num_items*cost\n",
        "  print(total_cost)\n",
        "Input=(input().split())\n",
        "Amount=Total(Input)"
      ]
    }
  ]
}