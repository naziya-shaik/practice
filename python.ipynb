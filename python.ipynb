{
  "nbformat": 4,
  "nbformat_minor": 0,
  "metadata": {
    "colab": {
      "provenance": [],
      "authorship_tag": "ABX9TyMGVeK6kVSUabcnAs1q2LVV",
      "include_colab_link": true
    },
    "kernelspec": {
      "name": "python3",
      "display_name": "Python 3"
    },
    "language_info": {
      "name": "python"
    }
  },
  "cells": [
    {
      "cell_type": "markdown",
      "metadata": {
        "id": "view-in-github",
        "colab_type": "text"
      },
      "source": [
        "<a href=\"https://colab.research.google.com/github/naziya-shaik/demo/blob/master/python.ipynb\" target=\"_parent\"><img src=\"https://colab.research.google.com/assets/colab-badge.svg\" alt=\"Open In Colab\"/></a>"
      ]
    },
    {
      "cell_type": "code",
      "source": [
        "#acronyms in python\n",
        "user_input=str(input('Enter a Phrase:'))\n",
        "text=user_input.split()\n",
        "Acronyms=' '\n",
        "for i in text:\n",
        "  Acronyms=Acronyms+str(i[0]).upper()\n",
        "print(Acronyms)\n"
      ],
      "metadata": {
        "id": "ss5ktwLq3rC6"
      },
      "execution_count": null,
      "outputs": []
    },
    {
      "cell_type": "code",
      "source": [
        "mystring='acdefgh'\n",
        "for i in mystring:\n",
        "  print(i)\n",
        "mystring[0]"
      ],
      "metadata": {
        "id": "K6mOg3flPtVX"
      },
      "execution_count": null,
      "outputs": []
    },
    {
      "cell_type": "code",
      "source": [
        "i=0\n",
        "while i<3:\n",
        "  print(mystring[i])\n",
        "  i=i+1"
      ],
      "metadata": {
        "colab": {
          "base_uri": "https://localhost:8080/"
        },
        "id": "MS2A97qxSNl_",
        "outputId": "61e746f7-42eb-4616-c1f1-e207272464b7"
      },
      "execution_count": null,
      "outputs": [
        {
          "output_type": "stream",
          "name": "stdout",
          "text": [
            "a\n",
            "c\n",
            "d\n"
          ]
        }
      ]
    },
    {
      "cell_type": "code",
      "source": [
        "#wap num of vowels and num of consonants in a given string\n",
        "str=input()\n",
        "i=0\n",
        "print('length:',len(str))\n",
        "while i<len(str):\n",
        "  print(str[i])\n",
        "  i=i+1"
      ],
      "metadata": {
        "id": "B8sZpOh0SaxS"
      },
      "execution_count": null,
      "outputs": []
    },
    {
      "cell_type": "code",
      "source": [
        "mystr=input()\n",
        "vowel=0\n",
        "cons=0\n",
        "i=0\n",
        "while i<len(mystr):\n",
        "  if mystr[i]=='a' or mystr[i]=='e' or mystr[i]=='i' or mystr[i]=='o' or mystr[i]=='u':\n",
        "     vowel=vowel+1\n",
        "  else:\n",
        "    cons=cons+1\n",
        "  i=i+1\n",
        "print(cons)\n",
        "print(vowel)"
      ],
      "metadata": {
        "id": "Gz_IhWAPVOys",
        "colab": {
          "base_uri": "https://localhost:8080/"
        },
        "outputId": "4003eef2-7dda-48c8-ecf6-3c877b12f27d"
      },
      "execution_count": null,
      "outputs": [
        {
          "output_type": "stream",
          "name": "stdout",
          "text": [
            "abcdfeioh\n",
            "5\n",
            "4\n"
          ]
        }
      ]
    },
    {
      "cell_type": "code",
      "source": [
        "#split\n",
        "mystr='naz,iya,from,om,an'\n",
        "output=mystr.split(',')\n",
        "print(len(mystr))\n",
        "print(output)\n",
        "print('length',len(output))"
      ],
      "metadata": {
        "colab": {
          "base_uri": "https://localhost:8080/"
        },
        "id": "wszElUl3jkxw",
        "outputId": "df8b989c-73f5-4afd-a04d-8ff87dc906b1"
      },
      "execution_count": null,
      "outputs": [
        {
          "output_type": "stream",
          "name": "stdout",
          "text": [
            "18\n",
            "['naz', 'iya', 'from', 'om', 'an']\n",
            "length 5\n"
          ]
        }
      ]
    },
    {
      "cell_type": "code",
      "source": [
        "#count num of 3 letter words in a paragraph\n",
        "mystr=\"alexander Fleming (1881–1955) was a Scottish physician and microbiologist, best known for discovering the world's first broadly effective antibiotic substance, which he named penicillin. His discovery in 1928 of what was later named benzyle single greatest vpenicillin (or penicillin G) from the mould Penicillium rubens is described as thictory ever achieved over disease. For this discovery, he shared the Nobel Prize in Physiology or Medicine in 1945 with Howard Florey and Ernst Chain.\"\n",
        "output=mystr.split( )\n",
        "print('length',len(output))\n",
        "count=0\n",
        "for i in output:\n",
        "  if len(i)==3:\n",
        "    print(i)\n",
        "    count=count+1\n",
        "print(count)\n"
      ],
      "metadata": {
        "id": "ZCZpyhlxlUw-",
        "colab": {
          "base_uri": "https://localhost:8080/"
        },
        "outputId": "0a2f57ad-9e4c-4e50-fe1d-a296cb4e666c"
      },
      "execution_count": null,
      "outputs": [
        {
          "output_type": "stream",
          "name": "stdout",
          "text": [
            "length 73\n",
            "was\n",
            "and\n",
            "for\n",
            "the\n",
            "His\n",
            "was\n",
            "(or\n",
            "the\n",
            "For\n",
            "the\n",
            "and\n",
            "11\n"
          ]
        }
      ]
    },
    {
      "cell_type": "code",
      "source": [
        "#count num of 3 letter words in a paragraph\n",
        "mystr=\"alexander Fleming (1881–1955) was a Scottish physician and microbiologist, best known for discovering the world's first broadly effective antibiotic substance, which he named penicillin. His discovery in 1928 of what was later named benzyle single greatest vpenicillin (or penicillin G) from the mould Penicillium rubens is described as thictory ever achieved over disease. For this discovery, he shared the Nobel Prize in Physiology or Medicine in 1945 with Howard Florey and Ernst Chain.\"\n",
        "output=mystr.split( )\n",
        "print('length',len(output))\n",
        "vowel=0\n",
        "for i in output:\n",
        "  #print(i)\n",
        "  for ch in i:\n",
        "    if ch in 'aeiou':\n",
        "      vowel=vowel+1\n",
        "      #print(ch)\n",
        "print('num of vowel:',vowel)"
      ],
      "metadata": {
        "colab": {
          "base_uri": "https://localhost:8080/"
        },
        "outputId": "bcfe0470-1a07-4e8d-e8f1-4815a72eb9de",
        "id": "vjkU23evowTE"
      },
      "execution_count": null,
      "outputs": [
        {
          "output_type": "stream",
          "name": "stdout",
          "text": [
            "length 73\n",
            "num of vowel: 141\n"
          ]
        }
      ]
    },
    {
      "cell_type": "code",
      "source": [
        "#replace\n",
        "mystr='nazia adn adn zamir and'\n",
        "output=mystr.replace('adn','and')\n",
        "print(output)"
      ],
      "metadata": {
        "colab": {
          "base_uri": "https://localhost:8080/"
        },
        "id": "o2bDr-MXrhZB",
        "outputId": "42def9a8-9485-4d82-c29e-d0807f802a4c"
      },
      "execution_count": null,
      "outputs": [
        {
          "output_type": "stream",
          "name": "stdout",
          "text": [
            "nazia and and zamir and\n"
          ]
        }
      ]
    },
    {
      "cell_type": "code",
      "source": [
        "#replace was with saw in paragraph\n",
        "mystr=\"alexander Fleming (1881–1955) was a Scottish physician and microbiologist, best known for discovering the world's first broadly effective antibiotic substance, which he named penicillin. His discovery in 1928 of what was later named benzyle single greatest vpenicillin (or penicillin G) from the mould Penicillium rubens is described as thictory ever achieved over disease.For this discovery, he shared the Nobel Prize in Physiology or Medicine in 1945 with Howard Florey and Ernst Chain.\"\n",
        "output=mystr.replace('was','saw')\n",
        "print(output)"
      ],
      "metadata": {
        "id": "w6hP8H78sn_3"
      },
      "execution_count": null,
      "outputs": []
    },
    {
      "cell_type": "code",
      "source": [
        "#lower and upper\n",
        "mystr='naziya and ZAMIR'\n",
        "print(mystr.upper())\n",
        "print(mystr.lower())"
      ],
      "metadata": {
        "colab": {
          "base_uri": "https://localhost:8080/"
        },
        "id": "cBlKZnjQtfjh",
        "outputId": "8a401c4d-9892-4e88-f1ec-14b3a115d957"
      },
      "execution_count": null,
      "outputs": [
        {
          "output_type": "stream",
          "name": "stdout",
          "text": [
            "NAZIYA AND ZAMIR\n",
            "naziya and zamir\n"
          ]
        }
      ]
    },
    {
      "cell_type": "code",
      "source": [
        "#isdigit\n",
        "#input='12454'\n",
        "input='ab2344'\n",
        "output=input.isdigit()\n",
        "print(output)"
      ],
      "metadata": {
        "colab": {
          "base_uri": "https://localhost:8080/"
        },
        "id": "YnaIQ6HJt4KV",
        "outputId": "80aeced0-43e6-4c37-da0e-1b2799dc6525"
      },
      "execution_count": null,
      "outputs": [
        {
          "output_type": "stream",
          "name": "stdout",
          "text": [
            "False\n"
          ]
        }
      ]
    },
    {
      "cell_type": "code",
      "source": [
        "#find-->returns index wr it found the word\n",
        "a='my name is naziya'\n",
        "b=a.find('is')\n",
        "#b=a.find('ame')\n",
        "print(b)\n"
      ],
      "metadata": {
        "colab": {
          "base_uri": "https://localhost:8080/"
        },
        "id": "AaYmfuYfuvWU",
        "outputId": "6693dcf3-8ebb-4edc-8ad7-1b56df40e3c5"
      },
      "execution_count": null,
      "outputs": [
        {
          "output_type": "stream",
          "name": "stdout",
          "text": [
            "8\n"
          ]
        }
      ]
    },
    {
      "cell_type": "code",
      "source": [
        "#count\n",
        "#find num of duplicats in a sentence\n",
        "a='my name is naziya name'\n",
        "b=a.count('name')\n"
      ],
      "metadata": {
        "colab": {
          "base_uri": "https://localhost:8080/"
        },
        "id": "RKiJIspZvYis",
        "outputId": "0ca39588-fe48-46e2-889e-8f55e3774316"
      },
      "execution_count": null,
      "outputs": [
        {
          "output_type": "stream",
          "name": "stdout",
          "text": [
            "2\n"
          ]
        }
      ]
    },
    {
      "cell_type": "code",
      "source": [
        "a='my name is naziya my age is my'\n",
        "output=a.split( )\n",
        "print(output)\n",
        "for i in output:\n",
        "  if a.count('my')>1:\n",
        "    print('duplicate')\n",
        "b=a.count('my')\n",
        "print(b)"
      ],
      "metadata": {
        "id": "RDExDLkjyBRD",
        "colab": {
          "base_uri": "https://localhost:8080/"
        },
        "outputId": "460757ee-0e1f-41ca-da23-b46351e90ec0"
      },
      "execution_count": null,
      "outputs": [
        {
          "output_type": "stream",
          "name": "stdout",
          "text": [
            "['my', 'name', 'is', 'naziya', 'my', 'age', 'is', 'my']\n",
            "duplicate\n",
            "duplicate\n",
            "duplicate\n",
            "duplicate\n",
            "duplicate\n",
            "duplicate\n",
            "duplicate\n",
            "duplicate\n",
            "3\n"
          ]
        }
      ]
    },
    {
      "cell_type": "code",
      "source": [
        "#list\n",
        "mylist=[1,2,3,4,5,6,7]\n",
        "mylist[2]"
      ],
      "metadata": {
        "colab": {
          "base_uri": "https://localhost:8080/"
        },
        "id": "oshHrFHOzygA",
        "outputId": "edac321b-bf94-4147-8de3-35e21f2ccb6d"
      },
      "execution_count": null,
      "outputs": [
        {
          "output_type": "execute_result",
          "data": {
            "text/plain": [
              "3"
            ]
          },
          "metadata": {},
          "execution_count": 38
        }
      ]
    },
    {
      "cell_type": "code",
      "source": [
        "#slicing\n",
        "#mylist[:]\n",
        "#mylist[1:]\n",
        "mylist[-1]"
      ],
      "metadata": {
        "colab": {
          "base_uri": "https://localhost:8080/"
        },
        "id": "WdQepqPQ0nHS",
        "outputId": "e8495a84-4e2c-4282-8575-7bc695c66adc"
      },
      "execution_count": null,
      "outputs": [
        {
          "output_type": "execute_result",
          "data": {
            "text/plain": [
              "7"
            ]
          },
          "metadata": {},
          "execution_count": 45
        }
      ]
    },
    {
      "cell_type": "code",
      "source": [
        "a='hello world'\n",
        "#a[5:-1]\n",
        "#a[4:15]\n",
        "#a[-2:5]\n",
        "#a[-5:-6]\n",
        "#a[15]\n",
        "a[3]"
      ],
      "metadata": {
        "id": "FRKSM7wC1d4k"
      },
      "execution_count": null,
      "outputs": []
    },
    {
      "cell_type": "code",
      "source": [
        "#append\n",
        "mylist=[1,2,3,4,5]\n",
        "mylist.append(6)\n",
        "print(mylist)\n"
      ],
      "metadata": {
        "id": "KJUK0e3o25l0"
      },
      "execution_count": null,
      "outputs": []
    },
    {
      "cell_type": "code",
      "source": [
        "l=['naziya']\n",
        "l.append('zohan')\n",
        "l.append('zamir')\n",
        "l.append('zayaan')\n",
        "print(l)"
      ],
      "metadata": {
        "colab": {
          "base_uri": "https://localhost:8080/"
        },
        "id": "li8jqr3q8lDK",
        "outputId": "02b0f182-731d-4885-da9c-e52fe9c12d23"
      },
      "execution_count": null,
      "outputs": [
        {
          "output_type": "stream",
          "name": "stdout",
          "text": [
            "['naziya', 'zohan', 'zamir', 'zayaan']\n"
          ]
        }
      ]
    },
    {
      "cell_type": "code",
      "source": [
        "mystr='name is nazia'\n",
        "output=mystr.split( )\n",
        "output.append('hello')\n",
        "print(output)"
      ],
      "metadata": {
        "id": "1BUDLLKA-Hkh"
      },
      "execution_count": null,
      "outputs": []
    },
    {
      "cell_type": "code",
      "source": [
        "#remove\n",
        "mylist=[1,2,3,4,5,6,]\n",
        "mylist.remove(4)\n",
        "print(mylist)"
      ],
      "metadata": {
        "id": "t1OxKmJA3h3-",
        "colab": {
          "base_uri": "https://localhost:8080/"
        },
        "outputId": "c46b06e6-606f-469e-85d8-a5548816a950"
      },
      "execution_count": null,
      "outputs": [
        {
          "output_type": "stream",
          "name": "stdout",
          "text": [
            "[1, 2, 3, 5, 6]\n"
          ]
        }
      ]
    },
    {
      "cell_type": "code",
      "source": [
        "#pop  --->depends on index value\n",
        "n=[1,2,3,4,5,6]\n",
        "print(n.pop(1))\n",
        "print(n)\n",
        "print(n.pop())   #-->last index value\n",
        "print(n)"
      ],
      "metadata": {
        "id": "0f2ws-Od-2BD",
        "colab": {
          "base_uri": "https://localhost:8080/"
        },
        "outputId": "94f173a0-688f-4ca0-ed12-8ae783537357"
      },
      "execution_count": null,
      "outputs": [
        {
          "output_type": "stream",
          "name": "stdout",
          "text": [
            "2\n",
            "[1, 3, 4, 5, 6]\n",
            "6\n",
            "[1, 3, 4, 5]\n"
          ]
        }
      ]
    },
    {
      "cell_type": "code",
      "source": [
        "#reverse\n",
        "mylist=[2,4,1,3,6,9]\n",
        "mylist.reverse()\n",
        "print(mylist)"
      ],
      "metadata": {
        "id": "e6TvobOy38T1",
        "colab": {
          "base_uri": "https://localhost:8080/"
        },
        "outputId": "87f5a422-b281-4552-c0e4-bbef379a99e8"
      },
      "execution_count": null,
      "outputs": [
        {
          "output_type": "stream",
          "name": "stdout",
          "text": [
            "[9, 6, 3, 1, 4, 2]\n"
          ]
        }
      ]
    },
    {
      "cell_type": "code",
      "source": [
        "#insert -->(index value,value)\n",
        "mylist=[1,2,3,4,5,6,10]\n",
        "mylist.insert(2,10)\n",
        "print(mylist)"
      ],
      "metadata": {
        "colab": {
          "base_uri": "https://localhost:8080/"
        },
        "id": "esc2mJ8g4PGp",
        "outputId": "a8aa0925-8bbb-4102-c5ce-935266224ab3"
      },
      "execution_count": null,
      "outputs": [
        {
          "output_type": "stream",
          "name": "stdout",
          "text": [
            "[1, 2, 10, 3, 4, 5, 6, 10]\n"
          ]
        }
      ]
    },
    {
      "cell_type": "code",
      "source": [
        "#extend\n",
        "newlist=[10,25,38]\n",
        "mylist.extend(newlist)\n",
        "print(mylist)"
      ],
      "metadata": {
        "colab": {
          "base_uri": "https://localhost:8080/"
        },
        "id": "H-Zw-1ZA4qIl",
        "outputId": "30a1ea0c-853e-4a3f-90a1-b33d215df577"
      },
      "execution_count": null,
      "outputs": [
        {
          "output_type": "stream",
          "name": "stdout",
          "text": [
            "[1, 2, 10, 3, 4, 5, 6, 10, 10, 25, 38]\n"
          ]
        }
      ]
    },
    {
      "cell_type": "code",
      "source": [
        "#wap take marks from user find sum of 3 sub.use list append mark into list\n",
        "count=0\n",
        "markslist=[]\n",
        "while count <3:\n",
        "  marks=int(input())\n",
        "  markslist.append(marks)\n",
        "  count=count+1\n",
        "print(markslist)\n",
        "sum=0\n",
        "for i in markslist:\n",
        "  sum=sum+i\n",
        "print(sum)"
      ],
      "metadata": {
        "id": "wiORWADO5DgK"
      },
      "execution_count": null,
      "outputs": []
    },
    {
      "cell_type": "code",
      "source": [
        "#sort\n",
        "mylist=[1,23,3,4,50,6,37]\n",
        "#mylist.sort()  #asending order\n",
        "mylist.sort(reverse=True)    #desc\n",
        "print(mylist)"
      ],
      "metadata": {
        "colab": {
          "base_uri": "https://localhost:8080/"
        },
        "id": "PwWBAWcv7M3l",
        "outputId": "36c8f46d-def8-4cd1-a56b-61a900f93e04"
      },
      "execution_count": null,
      "outputs": [
        {
          "output_type": "stream",
          "name": "stdout",
          "text": [
            "[50, 37, 23, 6, 4, 3, 1]\n"
          ]
        }
      ]
    },
    {
      "cell_type": "code",
      "source": [
        "nameslist=[]\n",
        "count=0\n",
        "while count <3:\n",
        "  name=input('enter a name:')\n",
        "  nameslist.append(name)\n",
        "  count=count+1\n",
        "print(nameslist)"
      ],
      "metadata": {
        "id": "kLWHjX2l78tm"
      },
      "execution_count": null,
      "outputs": []
    },
    {
      "cell_type": "code",
      "source": [
        "#sets\n",
        "myset={2,3,4,5}\n",
        "for i in myset:\n",
        "  print(i)\n",
        "myset.add(2)  #no duplicats\n",
        "print(myset)\n",
        "myset.remove(4)\n",
        "print(myset)"
      ],
      "metadata": {
        "id": "rRqqqife_riv"
      },
      "execution_count": null,
      "outputs": []
    },
    {
      "cell_type": "code",
      "source": [
        "s={10,20,30}\n",
        "l=[40,50,60,10]\n",
        "s.update(l,range(8))\n",
        "print(s)"
      ],
      "metadata": {
        "colab": {
          "base_uri": "https://localhost:8080/"
        },
        "id": "6ogbbTSKEptb",
        "outputId": "2d48e616-5c62-4595-e1fb-a5b3a824b468"
      },
      "execution_count": null,
      "outputs": [
        {
          "output_type": "stream",
          "name": "stdout",
          "text": [
            "{0, 1, 2, 3, 4, 5, 6, 7, 40, 10, 50, 20, 60, 30}\n"
          ]
        }
      ]
    },
    {
      "cell_type": "code",
      "source": [
        "#set pop  ---->removes random element from set\n",
        "s={40,0,20,30}\n",
        "print(s)\n",
        "print(s.pop())\n",
        "print(s)"
      ],
      "metadata": {
        "colab": {
          "base_uri": "https://localhost:8080/"
        },
        "id": "-d5CMwMzFXjr",
        "outputId": "ffb77c50-efc0-4d86-a223-ecf3fc062cb9"
      },
      "execution_count": null,
      "outputs": [
        {
          "output_type": "stream",
          "name": "stdout",
          "text": [
            "{40, 0, 20, 30}\n",
            "40\n",
            "{0, 20, 30}\n"
          ]
        }
      ]
    },
    {
      "cell_type": "code",
      "source": [
        "#tuple\n",
        "mytuple=(1,2,3)\n",
        "#mytuple=('sun','mon')\n",
        "for i in mytuple:\n",
        "  print(i)\n",
        "#mytuple.remove(2) \n",
        "#print(mytuple)"
      ],
      "metadata": {
        "id": "zrKe3YtcARG5"
      },
      "execution_count": null,
      "outputs": []
    },
    {
      "cell_type": "code",
      "source": [
        "#tuple sorting\n",
        "t=(10,2,3,1,35,2,12)\n",
        "#a=sorted(t)             #--->asending\n",
        "a=sorted(t,reverse=True)    #--->desending\n",
        "print(a)"
      ],
      "metadata": {
        "colab": {
          "base_uri": "https://localhost:8080/"
        },
        "id": "QLQDDtAdCpKB",
        "outputId": "03afeb15-8784-4c99-fd31-616e7d543e3d"
      },
      "execution_count": null,
      "outputs": [
        {
          "output_type": "stream",
          "name": "stdout",
          "text": [
            "[35, 12, 10, 3, 2, 2, 1]\n"
          ]
        }
      ]
    },
    {
      "cell_type": "code",
      "source": [
        "#dictionary\n",
        "mydict={}\n",
        "studentDict={'name':'naziya','age':26,'gender':'female','marks':[10,80,70]}\n",
        "studentDict['age']=25\n",
        "print(studentDict)\n",
        "#for key in studentDict:\n",
        "  #print(key)\n",
        "  #print(key,studentDict[key])"
      ],
      "metadata": {
        "colab": {
          "base_uri": "https://localhost:8080/"
        },
        "id": "jZQpjNwdCcb9",
        "outputId": "fcb5304d-5774-4114-cfa8-4aac08bd4276"
      },
      "execution_count": null,
      "outputs": [
        {
          "output_type": "stream",
          "name": "stdout",
          "text": [
            "{'name': 'naziya', 'age': 25, 'gender': 'female', 'marks': [10, 80, 70]}\n"
          ]
        }
      ]
    },
    {
      "cell_type": "code",
      "source": [
        "studentlist=[{'name':'naziya','age':26,'gender':'female','marks':[10,80,70]},\n",
        " {'name':'zamir','age':30,'gender':'male','marks':[90,86,76]},\n",
        " {'name':'zohan','age':29,'gender':'male','marks':[80,87,60]}]\n",
        "print(len(studentlist))"
      ],
      "metadata": {
        "colab": {
          "base_uri": "https://localhost:8080/"
        },
        "id": "QtzhdY7CFnMV",
        "outputId": "e9f1e6cd-2720-46eb-e49b-e1939a464007"
      },
      "execution_count": null,
      "outputs": [
        {
          "output_type": "stream",
          "name": "stdout",
          "text": [
            "3\n"
          ]
        }
      ]
    },
    {
      "cell_type": "code",
      "source": [
        "#wap find student name and total marks of each student\n",
        "for student in studentlist:\n",
        "  print(student['name'],sum(student['marks']))\n",
        "#studentlist[2]['name']\n"
      ],
      "metadata": {
        "colab": {
          "base_uri": "https://localhost:8080/"
        },
        "id": "5_Wru3CJG9LJ",
        "outputId": "7f7c0710-5a03-47e1-930f-f4b2900cd09c"
      },
      "execution_count": null,
      "outputs": [
        {
          "output_type": "execute_result",
          "data": {
            "text/plain": [
              "dict_values(['naziya', 25, 'female', [10, 80, 70]])"
            ]
          },
          "metadata": {},
          "execution_count": 116
        }
      ]
    },
    {
      "cell_type": "code",
      "source": [
        "studentDict.keys()\n",
        "studentDict.values()\n"
      ],
      "metadata": {
        "colab": {
          "base_uri": "https://localhost:8080/"
        },
        "id": "Zgr8nQ7gJaxl",
        "outputId": "9487189c-2a4e-4dd6-b227-5891a528088b"
      },
      "execution_count": null,
      "outputs": [
        {
          "output_type": "execute_result",
          "data": {
            "text/plain": [
              "dict_values(['naziya', 25, 'female', [10, 80, 70]])"
            ]
          },
          "metadata": {},
          "execution_count": 117
        }
      ]
    },
    {
      "cell_type": "code",
      "source": [
        "#wap displays marks questions one after another,second questo to be displayed \n",
        "#when user enter the answer for first question\n",
        "quizdict={\n",
        "    \"quiz\": {\n",
        "        \"sport\": {\n",
        "            \"q1\": {\n",
        "                \"question\": \"Which one is correct team name in NBA?\",\n",
        "                \"options\": [\n",
        "                    \"New York Bulls\",\n",
        "                    \"Los Angeles Kings\",\n",
        "                    \"Golden State Warriros\",\n",
        "                    \"Huston Rocket\"\n",
        "                ],\n",
        "                \"answer\": \"Huston Rocket\"\n",
        "            }\n",
        "        },\n",
        "        \"maths\": {\n",
        "            \"q1\": {\n",
        "                \"question\": \"5 + 7 = ?\",\n",
        "                \"options\": [\n",
        "                    \"10\",\n",
        "                    \"11\",\n",
        "                    \"12\",\n",
        "                    \"13\"\n",
        "                ],\n",
        "                \"answer\": \"12\"\n",
        "            },\n",
        "            \"q2\": {\n",
        "                \"question\": \"12 - 8 = ?\",\n",
        "                \"options\": [\n",
        "                    \"1\",\n",
        "                    \"2\",\n",
        "                    \"3\",\n",
        "                    \"4\"\n",
        "                ],\n",
        "                \"answer\": \"4\"\n",
        "            }\n",
        "        }\n",
        "    }\n",
        "}\n",
        "quizdict['quiz']['maths']\n"
      ],
      "metadata": {
        "id": "0harFCu9JeV9"
      },
      "execution_count": null,
      "outputs": []
    },
    {
      "cell_type": "code",
      "source": [
        "mathsdict=quizdict['quiz']['maths']\n",
        "for q in mathsdict:\n",
        "  print(mathsdict[q]['question'])\n",
        "  print('options:')\n",
        "  print(mathsdict[q]['options'])\n",
        "  print('input answer:')\n",
        "  answer=int(input())\n",
        "  if answer==int(mathsdict[q]['answer']):\n",
        "    print('correct answer')\n",
        "  else:\n",
        "    print('wong answer')"
      ],
      "metadata": {
        "id": "cFss1eT7LRQV"
      },
      "execution_count": null,
      "outputs": []
    },
    {
      "cell_type": "code",
      "execution_count": null,
      "metadata": {
        "id": "eeciushub47c"
      },
      "outputs": [],
      "source": [
        "# WAP that initializes a student's information.\n",
        "# Takes key and values from the user.\n",
        "# Finally print the student dictionary\n",
        "# Restrict the no. of inputs to 5\n",
        "studentDict={}\n",
        "i=0\n",
        "while i<3:\n",
        "  print('enter the key:')\n",
        "  key=input()\n",
        "  print('enter the  value')\n",
        "  value=input()\n",
        "  studentDict[key]=value\n",
        "  i=i+1\n",
        "print(studentDict)\n",
        "for student in studentDict:\n",
        "  print(student,studentDict[student])\n"
      ]
    },
    {
      "cell_type": "code",
      "source": [
        "def sum(arg1,arg2):\n",
        "  sum=arg1+arg2\n",
        "  print(sum)\n",
        "sum(10,50)\n"
      ],
      "metadata": {
        "colab": {
          "base_uri": "https://localhost:8080/"
        },
        "id": "JNbD7T0a6m_D",
        "outputId": "0cd0ff9b-40ff-4f82-a814-f2d1a62400f3"
      },
      "execution_count": null,
      "outputs": [
        {
          "output_type": "stream",
          "name": "stdout",
          "text": [
            "60\n"
          ]
        }
      ]
    },
    {
      "cell_type": "code",
      "source": [
        "#WAF that isEven which takes a number as argument and prints True if it is even else False\n",
        "def even(arg1):\n",
        "  if arg1%2==0:\n",
        "    print('true')\n",
        "  else:\n",
        "    print('false')\n",
        "even(4)"
      ],
      "metadata": {
        "colab": {
          "base_uri": "https://localhost:8080/"
        },
        "id": "8I1XBYux6qtT",
        "outputId": "7255f365-5cf8-43c3-fbb8-a521418d5d0b"
      },
      "execution_count": null,
      "outputs": [
        {
          "output_type": "stream",
          "name": "stdout",
          "text": [
            "true\n"
          ]
        }
      ]
    },
    {
      "cell_type": "code",
      "source": [],
      "metadata": {
        "id": "JQ9g0roa-uLJ"
      },
      "execution_count": null,
      "outputs": []
    },
    {
      "cell_type": "code",
      "source": [
        "#waf take integer and print factorial of a integer\n",
        "def factorial(number):\n",
        "   fact=1\n",
        "   while number>0:\n",
        "     fact=fact*number\n",
        "     number=number-1\n",
        "   return(fact)\n",
        "number=int(input())\n",
        "print(factorial(number))"
      ],
      "metadata": {
        "id": "M9uTvjw18oNV"
      },
      "execution_count": null,
      "outputs": []
    },
    {
      "cell_type": "code",
      "source": [
        "print(factorial(6))\n",
        "print(factorial(7))\n",
        "print(factorial(10))\n"
      ],
      "metadata": {
        "id": "Kbh87Iz8C-59"
      },
      "execution_count": null,
      "outputs": []
    },
    {
      "cell_type": "code",
      "source": [
        "newfactorial=factorial(4)\n",
        "print(newfactorial)"
      ],
      "metadata": {
        "id": "6H3r9tIa_a7p"
      },
      "execution_count": null,
      "outputs": []
    },
    {
      "cell_type": "code",
      "source": [
        "#wap take 5 input values and do sum of even numbers\n",
        "def iseven(number):\n",
        "  if number%2==0:\n",
        "    return True\n",
        "  else:\n",
        "    return False\n",
        "\n",
        "i=0\n",
        "sum=0\n",
        "while i<5:\n",
        "  number=int(input('enter a number:'))\n",
        "  if(iseven(number)):\n",
        "    sum=sum+number\n",
        "  i=i+1\n",
        "print('sum of even num',sum)"
      ],
      "metadata": {
        "id": "f_I1SvS9OMx3",
        "colab": {
          "base_uri": "https://localhost:8080/"
        },
        "outputId": "f04df4a0-90ac-4887-b598-97bf9de6d20f"
      },
      "execution_count": null,
      "outputs": [
        {
          "output_type": "stream",
          "name": "stdout",
          "text": [
            "enter a number:8\n",
            "enter a number:4\n",
            "enter a number:3\n",
            "enter a number:9\n",
            "enter a number:1\n",
            "sum of even num 12\n"
          ]
        }
      ]
    },
    {
      "cell_type": "code",
      "source": [
        "#waf sum of fctorial of 3numbers:\n",
        "def factorial(number):\n",
        "   fact=1\n",
        "   while number > 0:\n",
        "     fact=fact*number\n",
        "     number=number-1\n",
        "   return(fact)\n",
        "sum=0\n",
        "i=0\n",
        "while i < 3:\n",
        "  value=int(input('enter a number:'))\n",
        "  newfactorial=factorial(value)\n",
        "  sum=sum+newfactorial\n",
        "  i=i+1\n",
        "print(sum)"
      ],
      "metadata": {
        "id": "donhNfZUUZAw"
      },
      "execution_count": null,
      "outputs": []
    },
    {
      "cell_type": "code",
      "source": [
        "#range(start,end,steps)\n",
        "#wap find area of square when 1 argumnt passed,if 2 arguments passed then for rectangle\n",
        "def area(*values):   #arbitary argument\n",
        "  valuecount=len(values)\n",
        "  if valuecount==1:\n",
        "    print('arae of square:',values[0]*values[0])\n",
        "  elif valuecount==2:\n",
        "    print('area of rect:',values[0]*values[1])\n",
        "  else:\n",
        "    print('invalid entry')\n",
        "area(5)\n",
        "area(2,4)\n"
      ],
      "metadata": {
        "colab": {
          "base_uri": "https://localhost:8080/"
        },
        "id": "mEPM8DsEV_Lg",
        "outputId": "b98a0286-c147-4836-c807-432f38877c51"
      },
      "execution_count": null,
      "outputs": [
        {
          "output_type": "stream",
          "name": "stdout",
          "text": [
            "arae of square: 25\n",
            "area of rect: 8\n"
          ]
        }
      ]
    },
    {
      "cell_type": "code",
      "source": [
        "#default arguments\n",
        "def area(side=1):  # if default value\n",
        "  return side*side\n",
        "print(area())"
      ],
      "metadata": {
        "colab": {
          "base_uri": "https://localhost:8080/"
        },
        "id": "kZQ4XcG2jwC7",
        "outputId": "1649a068-2787-4b9e-d337-9db563838c41"
      },
      "execution_count": null,
      "outputs": [
        {
          "output_type": "stream",
          "name": "stdout",
          "text": [
            "1\n"
          ]
        }
      ]
    },
    {
      "cell_type": "code",
      "source": [
        "def calcost(pizza=0,burger=0,colddrink=0):\n",
        "  cost=100\n",
        "  return cost+pizza+burger+colddrink\n",
        "print(calcost())\n",
        "print(calcost(1,1))\n",
        "print(calcost(1,1,1))"
      ],
      "metadata": {
        "id": "z82iH78gmbYv"
      },
      "execution_count": null,
      "outputs": []
    },
    {
      "cell_type": "code",
      "source": [
        "def calcostofcar(powers=0,hybrid=0,design=0):\n",
        "  basefare=1000\n",
        "  return basefare+1000*powers+5000*hybrid+2000*design\n",
        "print(calcostofcar(2))\n",
        "print(calcostofcar(1,1))"
      ],
      "metadata": {
        "colab": {
          "base_uri": "https://localhost:8080/"
        },
        "id": "ZpFjP4sBoo47",
        "outputId": "386123cc-445a-4f8e-ecbc-b350442ef920"
      },
      "execution_count": null,
      "outputs": [
        {
          "output_type": "stream",
          "name": "stdout",
          "text": [
            "3000\n",
            "7000\n"
          ]
        }
      ]
    },
    {
      "cell_type": "code",
      "source": [
        "def printcars(car1,car2):\n",
        "  print(car1,car2)\n",
        "printcars('audi','benz')"
      ],
      "metadata": {
        "colab": {
          "base_uri": "https://localhost:8080/"
        },
        "id": "fVwd2T_mn13g",
        "outputId": "cca6aedd-4b0b-46eb-a9f2-f652145f76c8"
      },
      "execution_count": null,
      "outputs": [
        {
          "output_type": "stream",
          "name": "stdout",
          "text": [
            "audi benz\n"
          ]
        }
      ]
    },
    {
      "cell_type": "code",
      "source": [
        "#keyword arguments\n",
        "def printcars(car2,car1):\n",
        "  print(car1,car2)\n",
        "printcars(car2='audi',car1='benz') #it prints only in order"
      ],
      "metadata": {
        "colab": {
          "base_uri": "https://localhost:8080/"
        },
        "id": "cSen5ojrqmej",
        "outputId": "41441462-ac4d-4e4a-9618-cca25227703f"
      },
      "execution_count": null,
      "outputs": [
        {
          "output_type": "stream",
          "name": "stdout",
          "text": [
            "benz audi\n"
          ]
        }
      ]
    },
    {
      "cell_type": "code",
      "source": [
        "def insertdb(name,age,marks):\n",
        "  print(name,age,marks)\n",
        "insertdb(name='naziya',marks=80,age=26) #entry mistake"
      ],
      "metadata": {
        "colab": {
          "base_uri": "https://localhost:8080/"
        },
        "id": "N17daFEirLw0",
        "outputId": "632d534a-7398-4f37-b2ca-42c4170dd125"
      },
      "execution_count": null,
      "outputs": [
        {
          "output_type": "stream",
          "name": "stdout",
          "text": [
            "naziya 26 80\n"
          ]
        }
      ]
    },
    {
      "cell_type": "code",
      "source": [
        "#arbitarykeyword argumnts\n",
        "def exofarbarg(*arg):\n",
        "  pass\n",
        "def exofarbkeyarg(**args):\n",
        "  pass\n",
        "range()\n"
      ],
      "metadata": {
        "id": "ihp5Lff6rvr2"
      },
      "execution_count": null,
      "outputs": []
    },
    {
      "cell_type": "code",
      "source": [
        "#waf string as input and returns reverse of the string\n",
        "def reversestr(string):\n",
        "  return(string[::-1])\n",
        "reversestr('hello')"
      ],
      "metadata": {
        "colab": {
          "base_uri": "https://localhost:8080/",
          "height": 35
        },
        "id": "m86nAriluVaU",
        "outputId": "d2b6bf39-07f4-4ea0-885e-80925ce0477c"
      },
      "execution_count": null,
      "outputs": [
        {
          "output_type": "execute_result",
          "data": {
            "text/plain": [
              "'olleh'"
            ],
            "application/vnd.google.colaboratory.intrinsic+json": {
              "type": "string"
            }
          },
          "metadata": {},
          "execution_count": 30
        }
      ]
    },
    {
      "cell_type": "code",
      "source": [
        "#waf takes list of marks as input and return total marks as output\n",
        "def totalmarks(marks):\n",
        "  sum=0\n",
        "  for i in marks:\n",
        "    sum=sum+i\n",
        "  return sum\n",
        "print(totalmarks([60,30,50,70,80]))"
      ],
      "metadata": {
        "id": "BDe8kdSDu2jw"
      },
      "execution_count": null,
      "outputs": []
    },
    {
      "cell_type": "code",
      "source": [
        "#waf take dict as input and checks if the student pass or not,>40 pass else fail\n",
        "def status(stddict):\n",
        "  if stddict['marks']> 40:\n",
        "    return True\n",
        "  else:\n",
        "    return False\n",
        "sampledict={'name':'naziya','age':30,'id':11,'marks':60}\n",
        "print(status(sampledict))\n"
      ],
      "metadata": {
        "colab": {
          "base_uri": "https://localhost:8080/"
        },
        "id": "BIY2bbY3xbDO",
        "outputId": "43050b7e-99d9-4d1a-9d32-443815c03ccc"
      },
      "execution_count": null,
      "outputs": [
        {
          "output_type": "stream",
          "name": "stdout",
          "text": [
            "True\n"
          ]
        }
      ]
    },
    {
      "cell_type": "code",
      "source": [
        "mystr='iiiipythionii'\n",
        "print(mystr.strip('i'))"
      ],
      "metadata": {
        "id": "43VTCiwuzv-z",
        "colab": {
          "base_uri": "https://localhost:8080/"
        },
        "outputId": "73b75029-c7a7-4d3f-97d3-727901c23fe0"
      },
      "execution_count": null,
      "outputs": [
        {
          "output_type": "stream",
          "name": "stdout",
          "text": [
            "pythion\n"
          ]
        }
      ]
    },
    {
      "cell_type": "code",
      "source": [],
      "metadata": {
        "id": "XBhe8TF3r_ET"
      },
      "execution_count": null,
      "outputs": []
    }
  ]
}