{
 "cells": [
  {
   "cell_type": "markdown",
   "id": "393d9d21",
   "metadata": {},
   "source": [
    "##### Creating a table using postgresSQL"
   ]
  },
  {
   "cell_type": "code",
   "execution_count": 3,
   "id": "a33afb6b",
   "metadata": {},
   "outputs": [
    {
     "name": "stdout",
     "output_type": "stream",
     "text": [
      "Requirement already satisfied: psycopg2 in c:\\users\\zamir\\appdata\\local\\programs\\python\\python311\\lib\\site-packages (2.9.6)\n"
     ]
    },
    {
     "name": "stderr",
     "output_type": "stream",
     "text": [
      "\n",
      "[notice] A new release of pip available: 22.3.1 -> 23.1.1\n",
      "[notice] To update, run: python.exe -m pip install --upgrade pip\n"
     ]
    }
   ],
   "source": [
    "!pip install psycopg2\n"
   ]
  },
  {
   "cell_type": "markdown",
   "id": "56fb69d2",
   "metadata": {},
   "source": [
    "# import the library\n"
   ]
  },
  {
   "cell_type": "code",
   "execution_count": null,
   "id": "ded84cac",
   "metadata": {},
   "outputs": [],
   "source": [
    "import psycopg2"
   ]
  },
  {
   "cell_type": "markdown",
   "id": "12b56165",
   "metadata": {},
   "source": [
    "# Create a connectio to the database"
   ]
  },
  {
   "cell_type": "code",
   "execution_count": 13,
   "id": "14253b19",
   "metadata": {},
   "outputs": [],
   "source": [
    "try:\n",
    "    conn=psycopg2.connect(\"host=127.0.0.1 dbname=postgres user=postgres password=8523058480\")  \n",
    "except psycopg2.Error as e:\n",
    "    print(\"Error : could not make connection to the postgres database\")\n",
    "    print(e)\n",
    "                          "
   ]
  },
  {
   "cell_type": "markdown",
   "id": "380e8e98",
   "metadata": {},
   "source": [
    "# Use connection to get a cursor that can be used  to execute queries"
   ]
  },
  {
   "cell_type": "code",
   "execution_count": 17,
   "id": "86ff1f8d",
   "metadata": {},
   "outputs": [],
   "source": [
    "try:\n",
    "    cur=conn.cursor()\n",
    "except psycopg2.Error as e:\n",
    "    print('Error :could not grt cursor to database')\n",
    "    print(e)"
   ]
  },
  {
   "cell_type": "markdown",
   "id": "fd04966d",
   "metadata": {},
   "source": [
    "# set automatic commit to be true so that each action is committed without having to call conn.commit() after each command."
   ]
  },
  {
   "cell_type": "code",
   "execution_count": 15,
   "id": "493883c3",
   "metadata": {},
   "outputs": [],
   "source": [
    "conn.set_session(autocommit=True)"
   ]
  },
  {
   "cell_type": "markdown",
   "id": "458d0540",
   "metadata": {},
   "source": [
    "# create database to do the work in"
   ]
  },
  {
   "cell_type": "code",
   "execution_count": 19,
   "id": "cf10a8b2",
   "metadata": {},
   "outputs": [
    {
     "name": "stdout",
     "output_type": "stream",
     "text": [
      "database \"myfirstdb\" already exists\n",
      "\n"
     ]
    }
   ],
   "source": [
    "try:\n",
    "    cur.execute(\"create database myfirstdb\")\n",
    "except psycopg2.Error as e:\n",
    "    print(e)"
   ]
  },
  {
   "cell_type": "markdown",
   "id": "1c96777e",
   "metadata": {},
   "source": [
    "# Add the database name in the connect statement.Let's close our connection to the default database,reconnect to the udacity database,and get a new cursor"
   ]
  },
  {
   "cell_type": "code",
   "execution_count": 33,
   "id": "8adcb446",
   "metadata": {},
   "outputs": [],
   "source": [
    "try:\n",
    "    conn.close()\n",
    "except psycopg2.Error as e:\n",
    "    print(e)\n",
    "try:\n",
    "    conn=psycopg2.connect(\"host=127.0.0.1 dbname=myfirstdb user=postgres password=8523058480\")  \n",
    "except psycopg2.Error as e:\n",
    "    print(\"Error : could not make connection to the postgres database\")\n",
    "    print(e)\n",
    "try:\n",
    "    cur=conn.cursor()\n",
    "except psycopg2.Error as e:\n",
    "    print('Error :could not grt cursor to database')\n",
    "    print(e)\n",
    "conn.set_session(autocommit=True)\n",
    "                          "
   ]
  },
  {
   "cell_type": "markdown",
   "id": "a689e163",
   "metadata": {},
   "source": [
    "# Create a table for students which includes below columns\n",
    "student_id,\n",
    "name,\n",
    "age,\n",
    "gender,\n",
    "subject,\n",
    "marks"
   ]
  },
  {
   "cell_type": "code",
   "execution_count": 34,
   "id": "680705d2",
   "metadata": {},
   "outputs": [],
   "source": [
    "try:\n",
    "    cur.execute(\"CREATE TABLE IF NOT EXISTS students (student_id int,name varchar,age int, gender varchar,subject varchar,marks int);\")\n",
    "except psycopg2.Error as e:\n",
    "    print(\"Error:Issue creating table\")\n",
    "    print(e)"
   ]
  },
  {
   "cell_type": "markdown",
   "id": "3bbc471d",
   "metadata": {},
   "source": [
    "# inserting  the data"
   ]
  },
  {
   "cell_type": "code",
   "execution_count": 35,
   "id": "cd40e801",
   "metadata": {},
   "outputs": [],
   "source": [
    "try:\n",
    "    cur.execute(\"INSERT INTO students(student_id,name,age,gender,subject,marks) VALUES(%s,%s,%s,%s,%s,%s)\", \n",
    "               (1,\"Raj\",23,\"Male\",\"Python\",85))\n",
    "except psycopg2.Error as e:\n",
    "    print(\"Error:Inserting rows\")\n",
    "    print(e)\n",
    "    \n",
    "try:\n",
    "    cur.execute(\"INSERT INTO students(student_id,name,age,gender,subject,marks) VALUES(%s,%s,%s,%s,%s,%s)\", \n",
    "               (2,\"priya\",22,\"Female\",\"Python\",89))\n",
    "except psycopg2.Error as e:\n",
    "    print(\"Error:Inserting rows\")\n",
    "    print(e)\n",
    "    "
   ]
  },
  {
   "cell_type": "markdown",
   "id": "b5d6110c",
   "metadata": {},
   "source": [
    "# validate your data was inserted into the table"
   ]
  },
  {
   "cell_type": "code",
   "execution_count": 37,
   "id": "748c4792",
   "metadata": {},
   "outputs": [
    {
     "name": "stdout",
     "output_type": "stream",
     "text": [
      "(1, 'Raj', 23, 'Male', 'Python', 85)\n",
      "(2, 'priya', 22, 'Female', 'Python', 89)\n"
     ]
    }
   ],
   "source": [
    "try:\n",
    "    cur.execute(\"SELECT * FROM students;\")\n",
    "except psycopge.Error as e:\n",
    "    print(\"Error:select *\")\n",
    "    print(e)\n",
    "    \n",
    "row=cur.fetchone()\n",
    "while row:\n",
    "    print(row)\n",
    "    row=cur.fetchone()"
   ]
  },
  {
   "cell_type": "markdown",
   "id": "eb06a941",
   "metadata": {},
   "source": [
    "# close the cursor"
   ]
  },
  {
   "cell_type": "code",
   "execution_count": 38,
   "id": "7e10e029",
   "metadata": {},
   "outputs": [],
   "source": [
    "cur.close()\n",
    "conn.close()"
   ]
  },
  {
   "cell_type": "code",
   "execution_count": null,
   "id": "7c1e3c9c",
   "metadata": {},
   "outputs": [],
   "source": []
  }
 ],
 "metadata": {
  "kernelspec": {
   "display_name": "Python 3 (ipykernel)",
   "language": "python",
   "name": "python3"
  },
  "language_info": {
   "codemirror_mode": {
    "name": "ipython",
    "version": 3
   },
   "file_extension": ".py",
   "mimetype": "text/x-python",
   "name": "python",
   "nbconvert_exporter": "python",
   "pygments_lexer": "ipython3",
   "version": "3.11.3"
  }
 },
 "nbformat": 4,
 "nbformat_minor": 5
}
